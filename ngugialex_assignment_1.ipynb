{
  "nbformat": 4,
  "nbformat_minor": 0,
  "metadata": {
    "colab": {
      "provenance": [],
      "authorship_tag": "ABX9TyN+qcTDcnMjV28WGr47CI4U",
      "include_colab_link": true
    },
    "kernelspec": {
      "name": "python3",
      "display_name": "Python 3"
    },
    "language_info": {
      "name": "python"
    }
  },
  "cells": [
    {
      "cell_type": "markdown",
      "metadata": {
        "id": "view-in-github",
        "colab_type": "text"
      },
      "source": [
        "<a href=\"https://colab.research.google.com/github/ngugialex/ngugialex/blob/main/ngugialex_assignment_1.ipynb\" target=\"_parent\"><img src=\"https://colab.research.google.com/assets/colab-badge.svg\" alt=\"Open In Colab\"/></a>"
      ]
    },
    {
      "cell_type": "code",
      "execution_count": null,
      "metadata": {
        "colab": {
          "base_uri": "https://localhost:8080/"
        },
        "id": "mEfOJw9XbUhZ",
        "outputId": "918a79a9-de86-4871-b0b4-8bd1996f56df"
      },
      "outputs": [
        {
          "output_type": "stream",
          "name": "stdout",
          "text": [
            "Mean: 4801.777777777777\n",
            "Mode: 1201\n",
            "Median: 5122.0\n"
          ]
        },
        {
          "output_type": "stream",
          "name": "stderr",
          "text": [
            "<ipython-input-2-8946dfe5c393>:7: FutureWarning: Unlike other reduction functions (e.g. `skew`, `kurtosis`), the default behavior of `mode` typically preserves the axis it acts along. In SciPy 1.11.0, this behavior will change: the default value of `keepdims` will become False, the `axis` over which the statistic is taken will be eliminated, and the value None will no longer be accepted. Set `keepdims` to True or False to avoid this warning.\n",
            "  mode = stats.mode(figures).mode[0]\n"
          ]
        }
      ],
      "source": [
        "import numpy as np\n",
        "from scipy import stats\n",
        "\n",
        "figures = np.random.randint(1, 10000, 9)\n",
        "\n",
        "mean = np.mean(figures)\n",
        "mode = stats.mode(figures).mode[0]\n",
        "median = np.median(figures)\n",
        "\n",
        "print(\"Mean:\", mean)\n",
        "print(\"Mode:\", mode)\n",
        "print(\"Median:\", median)"
      ]
    },
    {
      "cell_type": "code",
      "source": [
        "import numpy as np\n",
        "\n",
        "figures = np.random.randint(1, 10000, 9)\n",
        "\n",
        "lower_quartile = np.percentile(figures, 25)\n",
        "upper_quartile = np.percentile(figures, 75)\n",
        "interquartile_range = upper_quartile - lower_quartile\n",
        "\n",
        "print(\"Lower Quartile:\", lower_quartile)\n",
        "print(\"Upper Quartile:\", upper_quartile)\n",
        "print(\"Interquartile Range:\", interquartile_range)"
      ],
      "metadata": {
        "id": "jKZfgyE4cOo4",
        "outputId": "d20729b8-a42b-4b06-dbf2-6d370c2211b6",
        "colab": {
          "base_uri": "https://localhost:8080/"
        }
      },
      "execution_count": null,
      "outputs": [
        {
          "output_type": "stream",
          "name": "stdout",
          "text": [
            "Lower Quartile: 4849.0\n",
            "Upper Quartile: 5962.0\n",
            "Interquartile Range: 1113.0\n"
          ]
        }
      ]
    },
    {
      "cell_type": "code",
      "source": [
        "import numpy as np\n",
        "\n",
        "figures = np.random.randint(1, 10000, 9)\n",
        "\n",
        "lower_quartile = int(np.percentile(figures, 25))\n",
        "\n",
        "print(\"Lower Quartile (integer):\", lower_quartile)"
      ],
      "metadata": {
        "id": "4G_s5jF7cyRz",
        "outputId": "6ba8dd8d-1131-4b88-e6af-dbc678965475",
        "colab": {
          "base_uri": "https://localhost:8080/"
        }
      },
      "execution_count": null,
      "outputs": [
        {
          "output_type": "stream",
          "name": "stdout",
          "text": [
            "Lower Quartile (integer): 916\n"
          ]
        }
      ]
    },
    {
      "cell_type": "code",
      "source": [
        "import numpy as np\n",
        "\n",
        "figures = np.random.randint(1, 10000, 9)\n",
        "\n",
        "figures_set = set(figures)\n",
        "\n",
        "print(\"Figures as a set:\", figures_set)"
      ],
      "metadata": {
        "id": "swwii7CEdKBu",
        "outputId": "efcb2286-b99c-4280-9ed9-7c7bff078f0d",
        "colab": {
          "base_uri": "https://localhost:8080/"
        }
      },
      "execution_count": null,
      "outputs": [
        {
          "output_type": "stream",
          "name": "stdout",
          "text": [
            "Figures as a set: {1355, 7851, 4781, 9803, 6930, 1398, 5591, 408, 2201}\n"
          ]
        }
      ]
    },
    {
      "cell_type": "code",
      "source": [
        "import numpy as np\n",
        "\n",
        "figures = np.random.randint(1, 10000, 9)\n",
        "\n",
        "figures_sorted_desc = np.sort(figures)[::-1]\n",
        "\n",
        "print(\"Figures in descending order:\", figures_sorted_desc)"
      ],
      "metadata": {
        "colab": {
          "base_uri": "https://localhost:8080/"
        },
        "id": "Eyib1OnaddZs",
        "outputId": "452e442d-bd7a-476f-f0a5-df1f40ee3044"
      },
      "execution_count": 6,
      "outputs": [
        {
          "output_type": "stream",
          "name": "stdout",
          "text": [
            "Figures in descending order: [9789 9239 9176 5591 4204 1382 1375 1351  309]\n"
          ]
        }
      ]
    }
  ]
}